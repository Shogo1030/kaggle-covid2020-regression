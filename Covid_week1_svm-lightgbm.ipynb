{
 "cells": [
  {
   "cell_type": "code",
   "execution_count": 13,
   "metadata": {},
   "outputs": [],
   "source": [
    "import datetime\n",
    "\n",
    "#データ解析用ライブラリ\n",
    "import pandas as pd\n",
    "import numpy as np\n",
    "\n",
    " \n",
    "#データ可視化ライブラリ\n",
    "import matplotlib.pyplot as plt\n",
    "import seaborn as sns\n",
    " \n",
    "\n",
    "#LightGBMライブラリ\n",
    "import lightgbm as lgb\n",
    "\n",
    "from sklearn.svm import SVR"
   ]
  },
  {
   "cell_type": "code",
   "execution_count": 14,
   "metadata": {},
   "outputs": [],
   "source": [
    "def preprocessing(df, date_info_list):\n",
    "    # 日付情報を取得\n",
    "    dt_cont = dt1 = datetime.datetime(year= 2020, month = 1, day = 1)\n",
    "    date_int_list = []\n",
    "\n",
    "    for date_info in date_info_list:\n",
    "        year = int(date_info.split('-')[0])\n",
    "        month = int(date_info.split('-')[1])\n",
    "        day = int(date_info.split('-')[2])\n",
    "        date_temp= datetime.datetime(year= year, month = month, day = day)\n",
    "        date_int_list.append((date_temp - dt_cont).days)\n",
    "    df['Date_int'] = date_int_list\n",
    "    \n",
    "    # nanを埋める\n",
    "    albania_len = len(df.loc[df['Country/Region'] == 'Albania','Lat'])\n",
    "    df.loc[df['Country/Region'] == 'Albania','Lat'] =  [41.327953] * albania_len\n",
    "    df.loc[df['Country/Region'] == 'Albania','Long'] = [19.819025] * albania_len\n",
    "    \n",
    "    aruba_len = len(df.loc[df['Country/Region'] == 'Aruba','Lat'] )\n",
    "    df.loc[df['Country/Region'] == 'Aruba','Lat'] =  [12.521110] * aruba_len\n",
    "    df.loc[df['Country/Region'] == 'Aruba','Long'] =  [-69.968338] * aruba_len\n",
    "    \n",
    "    # Province/Stateについて\n",
    "    df.loc[:, 'Province/State'] = df['Province/State'].fillna('')\n",
    "    \n",
    "    df['Contry'] = df['Province/State'] +  df['Country/Region']\n",
    "    \n",
    "    return df "
   ]
  },
  {
   "cell_type": "code",
   "execution_count": 15,
   "metadata": {},
   "outputs": [
    {
     "name": "stdout",
     "output_type": "stream",
     "text": [
      "ls: ../input: No such file or directory\r\n"
     ]
    }
   ],
   "source": [
    "!ls ../input"
   ]
  },
  {
   "cell_type": "code",
   "execution_count": null,
   "metadata": {},
   "outputs": [],
   "source": []
  },
  {
   "cell_type": "code",
   "execution_count": 16,
   "metadata": {},
   "outputs": [],
   "source": [
    "# データフレーム読み込み前処理実行\n",
    "data_dir = './'\n",
    "train_df = pd.read_csv(data_dir + 'train.csv')\n",
    "date_info_list = train_df['Date']\n",
    "train_df = preprocessing(train_df, date_info_list)\n",
    "\n",
    "test_df = pd.read_csv(data_dir + 'test.csv')\n",
    "date_info_list = test_df['Date']\n",
    "test_df = preprocessing(test_df, date_info_list)"
   ]
  },
  {
   "cell_type": "markdown",
   "metadata": {},
   "source": [
    "# 人口情報を取得する"
   ]
  },
  {
   "cell_type": "code",
   "execution_count": 17,
   "metadata": {},
   "outputs": [],
   "source": [
    "poplation_dict = {'Afghanistan': 37172386,\n",
    " 'Albania': 2866376,\n",
    " 'Algeria': 42228429,\n",
    " 'Andorra': 77006,\n",
    " 'Antigua and Barbuda': 96286,\n",
    " 'Argentina': 44494502,\n",
    " 'Armenia': 2951776,\n",
    " 'Aruba': 105845,\n",
    " 'Australia': 24992369,\n",
    " 'Austria': 8847037,\n",
    " 'Azerbaijan': 9942334,\n",
    " 'Bahrain': 1569439,\n",
    " 'Bangladesh': 161356039,\n",
    " 'Barbados': 286641,\n",
    " 'Belarus': 9485386,\n",
    " 'Belgium': 11422068,\n",
    " 'Benin': 11485048,\n",
    " 'Bhutan': 754394,\n",
    " 'Bosnia and Herzegovina': 3323929,\n",
    " 'Brazil': 209469333,\n",
    " 'Bulgaria': 7024216,\n",
    " 'Burkina Faso': 19751535,\n",
    " 'Cambodia': 16249798,\n",
    " 'Cameroon': 25216237,\n",
    " 'Canada': 37058856,\n",
    " 'Central African Republic': 4666377,\n",
    " 'Chile': 18729160,\n",
    " 'China': 1392730000,\n",
    " 'Colombia': 49648685,\n",
    " 'Costa Rica': 4999441,\n",
    " 'Croatia': 4089400,\n",
    " 'Cuba': 11338138,\n",
    " 'Cyprus': 1189265,\n",
    " 'Czechia': 10625695,\n",
    " 'Denmark': 5797446,\n",
    " 'Djibouti': 958920,\n",
    " 'Dominican Republic': 10627165,\n",
    " 'Ecuador': 17084357,\n",
    " 'Egypt': 98423595,\n",
    " 'Equatorial Guinea': 1308974,\n",
    " 'Estonia': 1320884,\n",
    " 'Eswatini': 1136191,\n",
    " 'Ethiopia': 109224559,\n",
    " 'Finland': 5518050,\n",
    " 'France': 66987244,\n",
    " 'Gabon': 2119275,\n",
    " 'Georgia': 3731000,\n",
    " 'Germany': 82927922,\n",
    " 'Ghana': 29767108,\n",
    " 'Greece': 10727668,\n",
    " 'Greenland': 56025,\n",
    " 'Guam': 165768,\n",
    " 'Guatemala': 17247807,\n",
    " 'Guinea': 12414318,\n",
    " 'Guyana': 779004,\n",
    " 'Honduras': 9587522,\n",
    " 'Hungary': 9768785,\n",
    " 'Iceland': 353574,\n",
    " 'India': 1352617328,\n",
    " 'Indonesia': 267663435,\n",
    " 'Iraq': 38433600,\n",
    " 'Ireland': 4853506,\n",
    " 'Israel': 8883800,\n",
    " 'Italy': 60431283,\n",
    " 'Jamaica': 2934855,\n",
    " 'Japan': 126529100,\n",
    " 'Jordan': 9956011,\n",
    " 'Kazakhstan': 18276499,\n",
    " 'Kenya': 51393010,\n",
    " 'Kosovo': 1845300,\n",
    " 'Kuwait': 4137309,\n",
    " 'Kyrgyzstan': 6315800,\n",
    " 'Latvia': 1926542,\n",
    " 'Lebanon': 6848925,\n",
    " 'Liberia': 4818977,\n",
    " 'Liechtenstein': 37910,\n",
    " 'Lithuania': 2789533,\n",
    " 'Luxembourg': 607728,\n",
    " 'Malaysia': 31528585,\n",
    " 'Maldives': 515696,\n",
    " 'Malta': 483530,\n",
    " 'Mauritania': 4403319,\n",
    " 'Mauritius': 1265303,\n",
    " 'Mexico': 126190788,\n",
    " 'Monaco': 38682,\n",
    " 'Mongolia': 3170208,\n",
    " 'Montenegro': 622345,\n",
    " 'Morocco': 36029138,\n",
    " 'Namibia': 2448255,\n",
    " 'Nepal': 28087871,\n",
    " 'Netherlands': 17231017,\n",
    " 'New Zealand': 4885500,\n",
    " 'Nigeria': 195874740,\n",
    " 'North Macedonia': 2082958,\n",
    " 'Norway': 5314336,\n",
    " 'Oman': 4829483,\n",
    " 'Pakistan': 212215030,\n",
    " 'Panama': 4176873,\n",
    " 'Paraguay': 6956071,\n",
    " 'Peru': 31989256,\n",
    " 'Philippines': 106651922,\n",
    " 'Poland': 37978548,\n",
    " 'Portugal': 10281762,\n",
    " 'Puerto Rico': 3195153,\n",
    " 'Qatar': 2781677,\n",
    " 'Romania': 19473936,\n",
    " 'Rwanda': 12301939,\n",
    " 'Saint Lucia': 181889,\n",
    " 'Saint Vincent and the Grenadines': 110210,\n",
    " 'San Marino': 33785,\n",
    " 'Saudi Arabia': 33699947,\n",
    " 'Senegal': 15854360,\n",
    " 'Serbia': 6982084,\n",
    " 'Seychelles': 96762,\n",
    " 'Singapore': 5638676,\n",
    " 'Slovakia': 5447011,\n",
    " 'Slovenia': 2067372,\n",
    " 'Somalia': 15008154,\n",
    " 'South Africa': 57779622,\n",
    " 'Spain': 46723749,\n",
    " 'Sri Lanka': 21670000,\n",
    " 'Sudan': 41801533,\n",
    " 'Suriname': 575991,\n",
    " 'Sweden': 10183175,\n",
    " 'Switzerland': 8516543,\n",
    " 'Thailand': 69428524,\n",
    " 'Togo': 7889094,\n",
    " 'Trinidad and Tobago': 1389858,\n",
    " 'Tunisia': 11565204,\n",
    " 'Turkey': 82319724,\n",
    " 'US': 327167434,\n",
    " 'Ukraine': 44622516,\n",
    " 'United Arab Emirates': 9630959,\n",
    " 'Uruguay': 3449299,\n",
    " 'Uzbekistan': 32955400,\n",
    " 'Zambia': 17351822,\n",
    " 'Bolivia': 11353142,\n",
    " 'Brunei': 428962,\n",
    " 'Congo (Brazzaville)': 84068091,\n",
    " 'Congo (Kinshasa)': 84068091,\n",
    " \"Cote d'Ivoire\": 25069229,\n",
    " 'Gambia, The': 2280102,\n",
    " 'Iran': 81800269,\n",
    " 'Korea, South': 51635256,\n",
    " 'Moldova': 3545883,\n",
    " 'Republic of the Congo': 5244363,\n",
    " 'Russia': 144478050,\n",
    " 'Tanzania': 56318348,\n",
    " 'The Bahamas': 385640,\n",
    " 'The Gambia': 2280102,\n",
    " 'United Kingdom': 66488991,\n",
    " 'Venezuela': 28870195,\n",
    " 'Vietnam': 95540395,\n",
    " 'French Guiana': 290700,\n",
    " 'Guadeloupe': 395700,\n",
    " 'Guernsey': 65605,\n",
    " 'Holy See': 1000,\n",
    " 'Jersey': 97860,\n",
    " 'Martinique': 376500,\n",
    " 'Mayotte': 270400,\n",
    " 'Cruise Ship': 1000,\n",
    " 'Reunion': 860000,\n",
    " 'Taiwan*': 23780000}"
   ]
  },
  {
   "cell_type": "markdown",
   "metadata": {},
   "source": []
  },
  {
   "cell_type": "code",
   "execution_count": 18,
   "metadata": {},
   "outputs": [],
   "source": [
    "# 人口情報を格納しているdfを作成\n",
    "poaplation_df = pd.DataFrame({'Country/Region': list(poplation_dict.keys()), 'populations': list(poplation_dict.values())})"
   ]
  },
  {
   "cell_type": "code",
   "execution_count": 19,
   "metadata": {},
   "outputs": [],
   "source": [
    "# merge\n",
    "\n",
    "train_df = poaplation_df.merge(train_df)\n",
    "test_df = poaplation_df.merge(test_df)"
   ]
  },
  {
   "cell_type": "markdown",
   "metadata": {},
   "source": [
    "# ConfirmedCases_test|"
   ]
  },
  {
   "cell_type": "code",
   "execution_count": 20,
   "metadata": {},
   "outputs": [
    {
     "data": {
      "text/html": [
       "<div>\n",
       "<style scoped>\n",
       "    .dataframe tbody tr th:only-of-type {\n",
       "        vertical-align: middle;\n",
       "    }\n",
       "\n",
       "    .dataframe tbody tr th {\n",
       "        vertical-align: top;\n",
       "    }\n",
       "\n",
       "    .dataframe thead th {\n",
       "        text-align: right;\n",
       "    }\n",
       "</style>\n",
       "<table border=\"1\" class=\"dataframe\">\n",
       "  <thead>\n",
       "    <tr style=\"text-align: right;\">\n",
       "      <th></th>\n",
       "      <th>Country/Region</th>\n",
       "      <th>populations</th>\n",
       "      <th>Id</th>\n",
       "      <th>Province/State</th>\n",
       "      <th>Lat</th>\n",
       "      <th>Long</th>\n",
       "      <th>Date</th>\n",
       "      <th>ConfirmedCases</th>\n",
       "      <th>Fatalities</th>\n",
       "      <th>Date_int</th>\n",
       "      <th>Contry</th>\n",
       "    </tr>\n",
       "  </thead>\n",
       "  <tbody>\n",
       "    <tr>\n",
       "      <th>11970</th>\n",
       "      <td>US</td>\n",
       "      <td>327167434</td>\n",
       "      <td>19903</td>\n",
       "      <td>Alabama</td>\n",
       "      <td>32.3182</td>\n",
       "      <td>-86.9023</td>\n",
       "      <td>2020-01-22</td>\n",
       "      <td>0.0</td>\n",
       "      <td>0.0</td>\n",
       "      <td>21</td>\n",
       "      <td>AlabamaUS</td>\n",
       "    </tr>\n",
       "    <tr>\n",
       "      <th>11971</th>\n",
       "      <td>US</td>\n",
       "      <td>327167434</td>\n",
       "      <td>19904</td>\n",
       "      <td>Alabama</td>\n",
       "      <td>32.3182</td>\n",
       "      <td>-86.9023</td>\n",
       "      <td>2020-01-23</td>\n",
       "      <td>0.0</td>\n",
       "      <td>0.0</td>\n",
       "      <td>22</td>\n",
       "      <td>AlabamaUS</td>\n",
       "    </tr>\n",
       "    <tr>\n",
       "      <th>11972</th>\n",
       "      <td>US</td>\n",
       "      <td>327167434</td>\n",
       "      <td>19905</td>\n",
       "      <td>Alabama</td>\n",
       "      <td>32.3182</td>\n",
       "      <td>-86.9023</td>\n",
       "      <td>2020-01-24</td>\n",
       "      <td>0.0</td>\n",
       "      <td>0.0</td>\n",
       "      <td>23</td>\n",
       "      <td>AlabamaUS</td>\n",
       "    </tr>\n",
       "    <tr>\n",
       "      <th>11973</th>\n",
       "      <td>US</td>\n",
       "      <td>327167434</td>\n",
       "      <td>19906</td>\n",
       "      <td>Alabama</td>\n",
       "      <td>32.3182</td>\n",
       "      <td>-86.9023</td>\n",
       "      <td>2020-01-25</td>\n",
       "      <td>0.0</td>\n",
       "      <td>0.0</td>\n",
       "      <td>24</td>\n",
       "      <td>AlabamaUS</td>\n",
       "    </tr>\n",
       "    <tr>\n",
       "      <th>11974</th>\n",
       "      <td>US</td>\n",
       "      <td>327167434</td>\n",
       "      <td>19907</td>\n",
       "      <td>Alabama</td>\n",
       "      <td>32.3182</td>\n",
       "      <td>-86.9023</td>\n",
       "      <td>2020-01-26</td>\n",
       "      <td>0.0</td>\n",
       "      <td>0.0</td>\n",
       "      <td>25</td>\n",
       "      <td>AlabamaUS</td>\n",
       "    </tr>\n",
       "    <tr>\n",
       "      <th>...</th>\n",
       "      <td>...</td>\n",
       "      <td>...</td>\n",
       "      <td>...</td>\n",
       "      <td>...</td>\n",
       "      <td>...</td>\n",
       "      <td>...</td>\n",
       "      <td>...</td>\n",
       "      <td>...</td>\n",
       "      <td>...</td>\n",
       "      <td>...</td>\n",
       "      <td>...</td>\n",
       "    </tr>\n",
       "    <tr>\n",
       "      <th>15619</th>\n",
       "      <td>US</td>\n",
       "      <td>327167434</td>\n",
       "      <td>25262</td>\n",
       "      <td>Wyoming</td>\n",
       "      <td>42.7560</td>\n",
       "      <td>-107.3025</td>\n",
       "      <td>2020-03-20</td>\n",
       "      <td>19.0</td>\n",
       "      <td>0.0</td>\n",
       "      <td>79</td>\n",
       "      <td>WyomingUS</td>\n",
       "    </tr>\n",
       "    <tr>\n",
       "      <th>15620</th>\n",
       "      <td>US</td>\n",
       "      <td>327167434</td>\n",
       "      <td>25263</td>\n",
       "      <td>Wyoming</td>\n",
       "      <td>42.7560</td>\n",
       "      <td>-107.3025</td>\n",
       "      <td>2020-03-21</td>\n",
       "      <td>23.0</td>\n",
       "      <td>0.0</td>\n",
       "      <td>80</td>\n",
       "      <td>WyomingUS</td>\n",
       "    </tr>\n",
       "    <tr>\n",
       "      <th>15621</th>\n",
       "      <td>US</td>\n",
       "      <td>327167434</td>\n",
       "      <td>25264</td>\n",
       "      <td>Wyoming</td>\n",
       "      <td>42.7560</td>\n",
       "      <td>-107.3025</td>\n",
       "      <td>2020-03-22</td>\n",
       "      <td>24.0</td>\n",
       "      <td>0.0</td>\n",
       "      <td>81</td>\n",
       "      <td>WyomingUS</td>\n",
       "    </tr>\n",
       "    <tr>\n",
       "      <th>15622</th>\n",
       "      <td>US</td>\n",
       "      <td>327167434</td>\n",
       "      <td>25265</td>\n",
       "      <td>Wyoming</td>\n",
       "      <td>42.7560</td>\n",
       "      <td>-107.3025</td>\n",
       "      <td>2020-03-23</td>\n",
       "      <td>26.0</td>\n",
       "      <td>0.0</td>\n",
       "      <td>82</td>\n",
       "      <td>WyomingUS</td>\n",
       "    </tr>\n",
       "    <tr>\n",
       "      <th>15623</th>\n",
       "      <td>US</td>\n",
       "      <td>327167434</td>\n",
       "      <td>25266</td>\n",
       "      <td>Wyoming</td>\n",
       "      <td>42.7560</td>\n",
       "      <td>-107.3025</td>\n",
       "      <td>2020-03-24</td>\n",
       "      <td>29.0</td>\n",
       "      <td>0.0</td>\n",
       "      <td>83</td>\n",
       "      <td>WyomingUS</td>\n",
       "    </tr>\n",
       "  </tbody>\n",
       "</table>\n",
       "<p>3654 rows × 11 columns</p>\n",
       "</div>"
      ],
      "text/plain": [
       "      Country/Region  populations     Id Province/State      Lat      Long  \\\n",
       "11970             US    327167434  19903        Alabama  32.3182  -86.9023   \n",
       "11971             US    327167434  19904        Alabama  32.3182  -86.9023   \n",
       "11972             US    327167434  19905        Alabama  32.3182  -86.9023   \n",
       "11973             US    327167434  19906        Alabama  32.3182  -86.9023   \n",
       "11974             US    327167434  19907        Alabama  32.3182  -86.9023   \n",
       "...              ...          ...    ...            ...      ...       ...   \n",
       "15619             US    327167434  25262        Wyoming  42.7560 -107.3025   \n",
       "15620             US    327167434  25263        Wyoming  42.7560 -107.3025   \n",
       "15621             US    327167434  25264        Wyoming  42.7560 -107.3025   \n",
       "15622             US    327167434  25265        Wyoming  42.7560 -107.3025   \n",
       "15623             US    327167434  25266        Wyoming  42.7560 -107.3025   \n",
       "\n",
       "             Date  ConfirmedCases  Fatalities  Date_int     Contry  \n",
       "11970  2020-01-22             0.0         0.0        21  AlabamaUS  \n",
       "11971  2020-01-23             0.0         0.0        22  AlabamaUS  \n",
       "11972  2020-01-24             0.0         0.0        23  AlabamaUS  \n",
       "11973  2020-01-25             0.0         0.0        24  AlabamaUS  \n",
       "11974  2020-01-26             0.0         0.0        25  AlabamaUS  \n",
       "...           ...             ...         ...       ...        ...  \n",
       "15619  2020-03-20            19.0         0.0        79  WyomingUS  \n",
       "15620  2020-03-21            23.0         0.0        80  WyomingUS  \n",
       "15621  2020-03-22            24.0         0.0        81  WyomingUS  \n",
       "15622  2020-03-23            26.0         0.0        82  WyomingUS  \n",
       "15623  2020-03-24            29.0         0.0        83  WyomingUS  \n",
       "\n",
       "[3654 rows x 11 columns]"
      ]
     },
     "execution_count": 20,
     "metadata": {},
     "output_type": "execute_result"
    }
   ],
   "source": [
    "\n",
    "train_df[train_df['Country/Region'] == 'US']"
   ]
  },
  {
   "cell_type": "code",
   "execution_count": 21,
   "metadata": {},
   "outputs": [
    {
     "data": {
      "text/plain": [
       "Index(['Country/Region', 'populations', 'Id', 'Province/State', 'Lat', 'Long',\n",
       "       'Date', 'ConfirmedCases', 'Fatalities', 'Date_int', 'Contry'],\n",
       "      dtype='object')"
      ]
     },
     "execution_count": 21,
     "metadata": {},
     "output_type": "execute_result"
    }
   ],
   "source": [
    "train_df.columns"
   ]
  },
  {
   "cell_type": "code",
   "execution_count": 22,
   "metadata": {},
   "outputs": [],
   "source": [
    "X_train = train_df.loc[:,['Date_int']]\n",
    "y_train = train_df['ConfirmedCases']\n",
    "\n",
    "X_test = test_df.loc[:,['Date_int']]"
   ]
  },
  {
   "cell_type": "markdown",
   "metadata": {},
   "source": [
    "# SVM"
   ]
  },
  {
   "cell_type": "code",
   "execution_count": 23,
   "metadata": {},
   "outputs": [],
   "source": [
    "contry_list = list(train_df['Contry'].unique())"
   ]
  },
  {
   "cell_type": "code",
   "execution_count": 24,
   "metadata": {},
   "outputs": [],
   "source": [
    "from sklearn.svm import SVR\n",
    "from sklearn.linear_model import LinearRegression\n",
    "from sklearn.preprocessing import PolynomialFeatures\n",
    "from sklearn.pipeline import Pipeline\n",
    "regr = Pipeline([\n",
    "    ('poly', PolynomialFeatures(degree=3)),\n",
    "    ('linear', LinearRegression())\n",
    "])\n",
    "for i, contry in enumerate(contry_list):\n",
    "    X_train = train_df.loc[train_df['Contry'] == contry,['Date_int']]\n",
    "    y_train = train_df.loc[train_df['Contry'] == contry,['ConfirmedCases']]\n",
    "    X_test = test_df.loc[test_df['Contry'] == contry,['Date_int']]\n",
    "    predicted_ConfirmedCases = regr.fit(X_train, y_train).predict(X_test)\n",
    "    test_df.loc[test_df['Contry'] == contry,'ConfirmedCases'] = predicted_ConfirmedCases\n"
   ]
  },
  {
   "cell_type": "markdown",
   "metadata": {},
   "source": [
    "# Fatalities"
   ]
  },
  {
   "cell_type": "code",
   "execution_count": 25,
   "metadata": {},
   "outputs": [],
   "source": [
    "X_train = train_df.loc[:,['Lat', 'Long']]\n",
    "y_train = train_df['Fatalities']\n",
    "\n",
    "X_test = test_df.loc[:,['Lat','Long']]\n",
    "\n",
    "lgb_train = lgb.Dataset(X_train, y_train)\n",
    "\n",
    "\n",
    "\n",
    " \n"
   ]
  },
  {
   "cell_type": "code",
   "execution_count": null,
   "metadata": {},
   "outputs": [
    {
     "name": "stdout",
     "output_type": "stream",
     "text": [
      "[LibSVM]"
     ]
    }
   ],
   "source": [
    "svr_rbf = SVR(kernel='poly', C=1e3, gamma=0.1, verbose = True)\n",
    "predicted_Fatalities = svr_rbf.fit(X_train, y_train).predict(X_test)"
   ]
  },
  {
   "cell_type": "markdown",
   "metadata": {},
   "source": [
    "# light gbm"
   ]
  },
  {
   "cell_type": "code",
   "execution_count": 33,
   "metadata": {},
   "outputs": [],
   "source": [
    "params = {'metric': 'rmse','boosting_type': 'dart','max_depth':7,'device':'gpu','verbosity':3}"
   ]
  },
  {
   "cell_type": "code",
   "execution_count": 39,
   "metadata": {},
   "outputs": [
    {
     "data": {
      "text/plain": [
       "<matplotlib.axes._subplots.AxesSubplot at 0x128d252e8>"
      ]
     },
     "execution_count": 39,
     "metadata": {},
     "output_type": "execute_result"
    },
    {
     "data": {
      "image/png": "[encoded data removed]",
      "text/plain": [
       "<Figure size 432x288 with 1 Axes>"
      ]
     },
     "metadata": {
      "needs_background": "light"
     },
     "output_type": "display_data"
    }
   ],
   "source": [
    "gbm = lgb.train(params,\n",
    "                lgb_train,\n",
    "                num_boost_round=1000)\n",
    "\n",
    "predicted_Fatalities = gbm.predict(X_test)\n",
    "lgb.plot_importance(gbm)"
   ]
  },
  {
   "cell_type": "code",
   "execution_count": null,
   "metadata": {},
   "outputs": [],
   "source": [
    "test_df.loc[:,'predicted_Fatalities'] = predicted_Fatalities "
   ]
  },
  {
   "cell_type": "code",
   "execution_count": null,
   "metadata": {},
   "outputs": [],
   "source": []
  },
  {
   "cell_type": "code",
   "execution_count": null,
   "metadata": {},
   "outputs": [],
   "source": [
    "test_df.query('predicted_Fatalities > 1500')"
   ]
  },
  {
   "cell_type": "code",
   "execution_count": null,
   "metadata": {},
   "outputs": [],
   "source": [
    "plt.plot(predicted_Fatalities)"
   ]
  },
  {
   "cell_type": "code",
   "execution_count": null,
   "metadata": {},
   "outputs": [],
   "source": [
    "predicted_ConfirmedCases.reshape(len(predicted_ConfirmedCases))"
   ]
  },
  {
   "cell_type": "code",
   "execution_count": null,
   "metadata": {},
   "outputs": [],
   "source": [
    "result_df = pd.DataFrame({'ForecastId':test_df['ForecastId'], 'ConfirmedCases':test_df['ConfirmedCases'],'Fatalities':predicted_Fatalities})"
   ]
  },
  {
   "cell_type": "code",
   "execution_count": null,
   "metadata": {},
   "outputs": [],
   "source": [
    "result_df "
   ]
  },
  {
   "cell_type": "code",
   "execution_count": null,
   "metadata": {},
   "outputs": [],
   "source": [
    "result_df.to_csv('./submission.csv', index=False)"
   ]
  },
  {
   "cell_type": "code",
   "execution_count": null,
   "metadata": {},
   "outputs": [],
   "source": [
    "!ls"
   ]
  },
  {
   "cell_type": "code",
   "execution_count": null,
   "metadata": {},
   "outputs": [],
   "source": []
  },
  {
   "cell_type": "code",
   "execution_count": null,
   "metadata": {},
   "outputs": [],
   "source": []
  }
 ],
 "metadata": {
  "kernelspec": {
   "display_name": "Python 3",
   "language": "python",
   "name": "python3"
  },
  "language_info": {
   "codemirror_mode": {
    "name": "ipython",
    "version": 3
   },
   "file_extension": ".py",
   "mimetype": "text/x-python",
   "name": "python",
   "nbconvert_exporter": "python",
   "pygments_lexer": "ipython3",
   "version": "3.6.8"
  },
  "toc": {
   "base_numbering": 1,
   "nav_menu": {},
   "number_sections": true,
   "sideBar": true,
   "skip_h1_title": false,
   "title_cell": "Table of Contents",
   "title_sidebar": "Contents",
   "toc_cell": false,
   "toc_position": {},
   "toc_section_display": true,
   "toc_window_display": false
  },
  "varInspector": {
   "cols": {
    "lenName": 16,
    "lenType": 16,
    "lenVar": 40
   },
   "kernels_config": {
    "python": {
     "delete_cmd_postfix": "",
     "delete_cmd_prefix": "del ",
     "library": "var_list.py",
     "varRefreshCmd": "print(var_dic_list())"
    },
    "r": {
     "delete_cmd_postfix": ") ",
     "delete_cmd_prefix": "rm(",
     "library": "var_list.r",
     "varRefreshCmd": "cat(var_dic_list()) "
    }
   },
   "types_to_exclude": [
    "module",
    "function",
    "builtin_function_or_method",
    "instance",
    "_Feature"
   ],
   "window_display": false
  }
 },
 "nbformat": 4,
 "nbformat_minor": 4
}
